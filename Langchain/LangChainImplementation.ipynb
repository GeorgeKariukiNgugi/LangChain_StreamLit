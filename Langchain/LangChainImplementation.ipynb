{
 "cells": [
  {
   "cell_type": "code",
   "execution_count": 1,
   "metadata": {},
   "outputs": [],
   "source": [
    "from api2 import open_api_key\n",
    "import os\n",
    "os.environ['OPENAI_API_KEY'] = open_api_key"
   ]
  },
  {
   "cell_type": "code",
   "execution_count": 2,
   "metadata": {},
   "outputs": [
    {
     "name": "stdout",
     "output_type": "stream",
     "text": [
      "\n",
      "\n",
      "1. Swahili Spice\n",
      "2. Zanzibar Kitchen\n",
      "3. Mombasa Delights\n",
      "4. Kilimanjaro Cuisine\n",
      "5. Coast of Flavors\n",
      "6. Dar es Salaam Bistro\n",
      "7. Lamu Lounge\n",
      "8. Zanzibar Table\n",
      "9. Serengeti Table\n",
      "10. Masai Café\n"
     ]
    }
   ],
   "source": [
    "from langchain.llms import OpenAI\n",
    "llm = OpenAI(temperature = 0.6)\n",
    "name = llm(\"I want to open a restuarant for Swahili cuisine. Suggest a list of fancy names I can use for it.\")\n",
    "print(name)"
   ]
  },
  {
   "cell_type": "code",
   "execution_count": 3,
   "metadata": {},
   "outputs": [],
   "source": [
    "from langchain.prompts import PromptTemplate\n",
    "prompt_template_name = PromptTemplate(\n",
    "input_variables = ['cuisine'],\n",
    "    template = \"I want to open a restuarant for {cuisine} cuisine. Suggest a fancy name I can use for it.\",    \n",
    ")"
   ]
  },
  {
   "cell_type": "code",
   "execution_count": 4,
   "metadata": {},
   "outputs": [
    {
     "data": {
      "text/plain": [
       "'\\n\\nMaji Na Uyoga: A Taste of Kenya'"
      ]
     },
     "execution_count": 4,
     "metadata": {},
     "output_type": "execute_result"
    }
   ],
   "source": [
    "from langchain.chains import LLMChain\n",
    "\n",
    "name_chain = LLMChain(llm=llm,prompt=prompt_template_name,output_key = \"restuarant_name\")\n",
    "name_chain.run(\"Kenyan\")\n",
    "\n"
   ]
  },
  {
   "cell_type": "code",
   "execution_count": 5,
   "metadata": {},
   "outputs": [],
   "source": [
    "prompt_template_menu_items = PromptTemplate(\n",
    "input_variables = ['restuarant_name'],\n",
    "    template = \"\"\"Suggest some menu items for the {restuarant_name}. Return it as coma separated.\"\"\",    \n",
    ")\n",
    "\n",
    "food_items_chain = LLMChain(llm=llm,prompt=prompt_template_menu_items,output_key = \"menu_items\")\n",
    "\n"
   ]
  },
  {
   "cell_type": "code",
   "execution_count": 7,
   "metadata": {},
   "outputs": [
    {
     "name": "stdout",
     "output_type": "stream",
     "text": [
      "\n",
      "\n",
      "Doro Wat, Kitfo, Tibs, Gomen, Shiro, Injera, Yemisir Wot, Alicha, Berbere, Fasolia, Azifa, Atkilt Wot, Teff Injera, Atkilt Alicha, Kinche, Shimbra Asa, Gored Gored.\n"
     ]
    }
   ],
   "source": [
    "from langchain.chains import SimpleSequentialChain\n",
    "simpleSequentialchain = SimpleSequentialChain(chains = [name_chain,food_items_chain])\n",
    "response = simpleSequentialchain.run(\"Ethiopian\")\n",
    "print(response)"
   ]
  },
  {
   "cell_type": "code",
   "execution_count": 11,
   "metadata": {},
   "outputs": [
    {
     "data": {
      "text/plain": [
       "{'cuisine': 'Kenyan',\n",
       " 'restuarant_name': '\\n\\nMaji na Choma: A Taste of Kenya',\n",
       " 'menu_items': '\\n\\nNyama Choma, Pilau, Chapati, Mandazi, Kuku Paka, Ugali, Samaki, Mchuzi Wa Samaki, Sukuma Wiki, Nyama Na Irio, Kachumbari, Maharagwe, Kuku Kienyeji, Matoke, Wali Wa Nazi.'}"
      ]
     },
     "execution_count": 11,
     "metadata": {},
     "output_type": "execute_result"
    }
   ],
   "source": [
    "from langchain.chains import SequentialChain\n",
    "sequentialChain = SequentialChain(\n",
    "chains = [name_chain,food_items_chain],\n",
    "    input_variables = ['cuisine'],\n",
    "    output_variables = ['restuarant_name','menu_items']\n",
    ")\n",
    "sequentialChain({'cuisine':'Kenyan'})"
   ]
  }
 ],
 "metadata": {
  "kernelspec": {
   "display_name": "Python 3",
   "language": "python",
   "name": "python3"
  },
  "language_info": {
   "codemirror_mode": {
    "name": "ipython",
    "version": 3
   },
   "file_extension": ".py",
   "mimetype": "text/x-python",
   "name": "python",
   "nbconvert_exporter": "python",
   "pygments_lexer": "ipython3",
   "version": "3.7.0"
  }
 },
 "nbformat": 4,
 "nbformat_minor": 2
}
